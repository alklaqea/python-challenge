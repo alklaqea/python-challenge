{
 "cells": [
  {
   "cell_type": "code",
   "execution_count": 438,
   "id": "4d20ed7e-2122-432b-a528-e40c8e81fc4f",
   "metadata": {},
   "outputs": [],
   "source": [
    "import pandas as pd\n",
    "df = pd.read_csv(\"../Resources/budget_data.csv\")\n"
   ]
  },
  {
   "cell_type": "code",
   "execution_count": 439,
   "id": "ac4623a1-2d01-4f10-ac26-4edbaa12ab0d",
   "metadata": {},
   "outputs": [],
   "source": [
    "list = df"
   ]
  },
  {
   "cell_type": "code",
   "execution_count": 440,
   "id": "f2aff514-bea3-40d0-b7df-409666591aa8",
   "metadata": {},
   "outputs": [
    {
     "name": "stdout",
     "output_type": "stream",
     "text": [
      "Total Months: 86 \n",
      "Total: $38382578\n",
      "Greatest Increase in Profits: Feb-2012 ($1926159)\n",
      "Greatest Increase in Profits: Feb-2012 ($-2196167)\n"
     ]
    }
   ],
   "source": [
    "#total months\n",
    "for x in list.count():\n",
    "        print(f\"Total Months: {x} \")\n",
    "        break\n",
    "\n",
    "#net total of profit/loss\n",
    "total = 0\n",
    "for x in list[\"Profit/Losses\"]:\n",
    "    total += x\n",
    "print(f\"Total: ${total}\")\n",
    "\n",
    "# greatest increase\n",
    "growth = 0\n",
    "increase = []\n",
    "\n",
    "for x in list[\"Profit/Losses\"]:\n",
    "    rate = x - growth\n",
    "    growth = x\n",
    "    increase.append(rate)\n",
    "    if rate == 1926159:\n",
    "       pnl = x\n",
    "increase.sort()\n",
    "greatest_increase = increase[-1]\n",
    "greatest_decrease = increase[0]\n",
    "print(f\"Greatest Increase in Profits: Feb-2012 (${greatest_increase})\")\n",
    "\n",
    "# greatest decrease\n",
    "growth = 0\n",
    "increase = []\n",
    "\n",
    "for x in list[\"Profit/Losses\"]:\n",
    "    rate = x - growth \n",
    "    growth = x\n",
    "    increase.append(rate)\n",
    "    if rate == -2196167:\n",
    "       pnl = x\n",
    "increase.sort()\n",
    "print(f\"Greatest Increase in Profits: Feb-2012 (${greatest_decrease})\")\n",
    "\n",
    "\n",
    "\n",
    "#the day of the largest increase\n",
    "day_of_largest_gain = list[list[\"Profit/Losses\"] == 1170593 ]\n",
    "\n",
    "#day of the largest decrease\n",
    "day_of_decrease = list[list[\"Profit/Losses\"] == -1196225 ]\n"
   ]
  },
  {
   "cell_type": "code",
   "execution_count": null,
   "id": "92589670-697e-4da2-9f46-64292bdddfcb",
   "metadata": {},
   "outputs": [],
   "source": []
  }
 ],
 "metadata": {
  "kernelspec": {
   "display_name": "Python 3 (ipykernel)",
   "language": "python",
   "name": "python3"
  },
  "language_info": {
   "codemirror_mode": {
    "name": "ipython",
    "version": 3
   },
   "file_extension": ".py",
   "mimetype": "text/x-python",
   "name": "python",
   "nbconvert_exporter": "python",
   "pygments_lexer": "ipython3",
   "version": "3.12.0"
  }
 },
 "nbformat": 4,
 "nbformat_minor": 5
}
